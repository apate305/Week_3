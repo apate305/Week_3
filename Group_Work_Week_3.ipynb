{
 "cells": [
  {
   "cell_type": "code",
   "execution_count": 26,
   "id": "8c2541f8",
   "metadata": {},
   "outputs": [],
   "source": [
    "def solve_ab(a, b):\n",
    "    c = a + b\n",
    "    if c == 0:\n",
    "        print(\"A + b = zero\")\n",
    "    else: \n",
    "        print(\"A + b =\", c)\n",
    "    c2 = a - b\n",
    "    if c2 == 0:\n",
    "        print(\"A - b = zero\")\n",
    "    else: \n",
    "        print(\"A - b =\", c2)\n",
    "    d = a * b\n",
    "    if d == 0:\n",
    "        print(\"A * b = zero\")\n",
    "    else: \n",
    "        print(\"A * b =\", d)"
   ]
  },
  {
   "cell_type": "code",
   "execution_count": 27,
   "id": "e1fb2590",
   "metadata": {},
   "outputs": [
    {
     "name": "stdout",
     "output_type": "stream",
     "text": [
      "A + b = 8\n",
      "A - b = -2\n",
      "A * b = 15\n"
     ]
    }
   ],
   "source": [
    "solve_ab(3, 5)"
   ]
  },
  {
   "cell_type": "code",
   "execution_count": 28,
   "id": "ef5e6dc9",
   "metadata": {},
   "outputs": [
    {
     "name": "stdout",
     "output_type": "stream",
     "text": [
      "A + b = 6\n",
      "A - b = zero\n",
      "A * b = 9\n"
     ]
    }
   ],
   "source": [
    "solve_ab(3, 3)"
   ]
  },
  {
   "cell_type": "code",
   "execution_count": null,
   "id": "0eebaac9",
   "metadata": {},
   "outputs": [],
   "source": []
  }
 ],
 "metadata": {
  "kernelspec": {
   "display_name": "Python 3 (ipykernel)",
   "language": "python",
   "name": "python3"
  },
  "language_info": {
   "codemirror_mode": {
    "name": "ipython",
    "version": 3
   },
   "file_extension": ".py",
   "mimetype": "text/x-python",
   "name": "python",
   "nbconvert_exporter": "python",
   "pygments_lexer": "ipython3",
   "version": "3.9.7"
  }
 },
 "nbformat": 4,
 "nbformat_minor": 5
}
